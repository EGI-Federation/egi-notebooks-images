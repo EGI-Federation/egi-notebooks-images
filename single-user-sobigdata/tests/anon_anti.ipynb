{
 "cells": [
  {
   "cell_type": "code",
   "execution_count": 1,
   "id": "107148c9-b2b4-4795-a4e9-cda23e000b42",
   "metadata": {
    "tags": []
   },
   "outputs": [],
   "source": [
    "!. /opt/conda/etc/profile.d/conda.sh && conda activate sbd\n",
    "from anonymization.entities.dataset_CSV import Dataset_CSV\n",
    "from anonymization.entities.dataset_DataFrame import Dataset_DataFrame\n",
    "from anonymization.algorithms.anonymization_scheme import Anonymization_scheme\n",
    "from anonymization.algorithms.k_anonymity import K_anonymity\n",
    "from anonymization.algorithms.mdav import Mdav\n",
    "\n",
    "from antiDiscrimination.algorithms.anti_discrimination import Anti_discrimination\n",
    "from antiDiscrimination.entities.dataset_DataFrame import Dataset_DataFrame"
   ]
  },
  {
   "cell_type": "code",
   "execution_count": null,
   "id": "7376c592-cb7b-4ce6-b90a-7e68a3d6a0a1",
   "metadata": {},
   "outputs": [],
   "source": []
  }
 ],
 "metadata": {
  "kernelspec": {
   "display_name": "Python 3 (ipykernel)",
   "language": "python",
   "name": "python3"
  },
  "language_info": {
   "codemirror_mode": {
    "name": "ipython",
    "version": 3
   },
   "file_extension": ".py",
   "mimetype": "text/x-python",
   "name": "python",
   "nbconvert_exporter": "python",
   "pygments_lexer": "ipython3",
   "version": "3.10.11"
  }
 },
 "nbformat": 4,
 "nbformat_minor": 5
}
