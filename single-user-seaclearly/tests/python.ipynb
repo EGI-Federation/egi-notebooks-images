{
 "cells": [
  {
   "cell_type": "code",
   "execution_count": null,
   "id": "3af4ee21-4b06-4f14-bb53-d9840a588215",
   "metadata": {},
   "outputs": [],
   "source": [
    "from parcels import FieldSet, ParticleSet, JITParticle, AdvectionRK4\n"
   ]
  },
  {
   "cell_type": "code",
   "execution_count": null,
   "id": "73d4d01c-1fe3-46b7-aa17-dcb6296ed19e",
   "metadata": {},
   "outputs": [],
   "source": []
  },
  {
   "cell_type": "code",
   "execution_count": null,
   "id": "e7567f45-870e-4957-a386-a85659e44bb8",
   "metadata": {},
   "outputs": [],
   "source": []
  }
 ],
 "metadata": {
  "kernelspec": {
   "display_name": "Python 3",
   "language": "python",
   "name": "python3"
  },
  "language_info": {
   "codemirror_mode": {
    "name": "ipython",
    "version": 3
   },
   "file_extension": ".py",
   "mimetype": "text/x-python",
   "name": "python",
   "nbconvert_exporter": "python",
   "pygments_lexer": "ipython3",
   "version": "3.8.8"
  }
 },
 "nbformat": 4,
 "nbformat_minor": 5
}
