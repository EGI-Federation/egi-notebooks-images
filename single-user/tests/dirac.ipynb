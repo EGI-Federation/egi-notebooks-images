{
 "cells": [
  {
   "cell_type": "code",
   "execution_count": null,
   "metadata": {},
   "outputs": [],
   "source": [
    "from DIRAC.Interfaces.API.Job import Job\n",
    "from DIRAC.Interfaces.API.Dirac import Dirac\n",
    "\n",
    "dirac = Dirac()\n",
    "\n",
    "j = Job()\n",
    "\n",
    "j.setCPUTime(500)\n",
    "j.setExecutable('/bin/echo hello')\n",
    "j.setExecutable('/bin/hostname')\n",
    "j.setExecutable('/bin/echo hello again')\n",
    "j.setName('API')"
   ]
  }
 ],
 "metadata": {
  "kernelspec": {
   "display_name": "DIRAC",
   "language": "python",
   "name": "dirac"
  },
  "language_info": {
   "codemirror_mode": {
    "name": "ipython",
    "version": 2
   },
   "file_extension": ".py",
   "mimetype": "text/x-python",
   "name": "python",
   "nbconvert_exporter": "python",
   "pygments_lexer": "ipython2",
   "version": "2.7.15"
  }
 },
 "nbformat": 4,
 "nbformat_minor": 4
}
